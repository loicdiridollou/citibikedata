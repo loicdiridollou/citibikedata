{
 "cells": [
  {
   "cell_type": "code",
   "execution_count": 1,
   "id": "79059ad1-6a6e-4874-a220-8fb4188dd8dd",
   "metadata": {},
   "outputs": [],
   "source": [
    "import pandas as pd\n",
    "import numpy as np"
   ]
  },
  {
   "cell_type": "code",
   "execution_count": 4,
   "id": "c1dd3fa3-c5b0-4c51-8e52-1e03a1d2dcce",
   "metadata": {},
   "outputs": [
    {
     "name": "stderr",
     "output_type": "stream",
     "text": [
      "/var/folders/st/m0b_93g97bxcmqnsx5v2qdm00000gn/T/ipykernel_98197/4292729557.py:1: DtypeWarning: Columns (7) have mixed types. Specify dtype option on import or set low_memory=False.\n",
      "  df = pd.read_csv('../data/202405-citibike-tripdata/202405-citibike-tripdata_1.csv')\n"
     ]
    }
   ],
   "source": [
    "df = pd.read_csv('../data/202405-citibike-tripdata/202405-citibike-tripdata_1.csv')"
   ]
  },
  {
   "cell_type": "code",
   "execution_count": 7,
   "id": "b0cf94ba-cffb-4f57-9d52-c04a9205ccc4",
   "metadata": {},
   "outputs": [
    {
     "data": {
      "text/plain": [
       "ride_id                object\n",
       "rideable_type          object\n",
       "started_at             object\n",
       "ended_at               object\n",
       "start_station_name     object\n",
       "start_station_id       object\n",
       "end_station_name       object\n",
       "end_station_id         object\n",
       "start_lat             float64\n",
       "start_lng             float64\n",
       "end_lat               float64\n",
       "end_lng               float64\n",
       "member_casual          object\n",
       "dtype: object"
      ]
     },
     "execution_count": 7,
     "metadata": {},
     "output_type": "execute_result"
    }
   ],
   "source": [
    "df.dtypes"
   ]
  },
  {
   "cell_type": "code",
   "execution_count": 8,
   "id": "b365493e-b0dc-481c-91d7-a05dd844e929",
   "metadata": {},
   "outputs": [
    {
     "data": {
      "text/html": [
       "<div>\n",
       "<style scoped>\n",
       "    .dataframe tbody tr th:only-of-type {\n",
       "        vertical-align: middle;\n",
       "    }\n",
       "\n",
       "    .dataframe tbody tr th {\n",
       "        vertical-align: top;\n",
       "    }\n",
       "\n",
       "    .dataframe thead th {\n",
       "        text-align: right;\n",
       "    }\n",
       "</style>\n",
       "<table border=\"1\" class=\"dataframe\">\n",
       "  <thead>\n",
       "    <tr style=\"text-align: right;\">\n",
       "      <th></th>\n",
       "      <th>ride_id</th>\n",
       "      <th>rideable_type</th>\n",
       "      <th>started_at</th>\n",
       "      <th>ended_at</th>\n",
       "      <th>start_station_name</th>\n",
       "      <th>start_station_id</th>\n",
       "      <th>end_station_name</th>\n",
       "      <th>end_station_id</th>\n",
       "      <th>start_lat</th>\n",
       "      <th>start_lng</th>\n",
       "      <th>end_lat</th>\n",
       "      <th>end_lng</th>\n",
       "      <th>member_casual</th>\n",
       "    </tr>\n",
       "  </thead>\n",
       "  <tbody>\n",
       "    <tr>\n",
       "      <th>0</th>\n",
       "      <td>FE6A074FC945A086</td>\n",
       "      <td>electric_bike</td>\n",
       "      <td>2024-05-01 08:05:53</td>\n",
       "      <td>2024-05-01 08:15:14</td>\n",
       "      <td>1 Ave &amp; E 30 St</td>\n",
       "      <td>6079.03</td>\n",
       "      <td>E 74 St &amp; 1 Ave</td>\n",
       "      <td>6953.08</td>\n",
       "      <td>40.741509</td>\n",
       "      <td>-73.975355</td>\n",
       "      <td>40.768974</td>\n",
       "      <td>-73.954823</td>\n",
       "      <td>member</td>\n",
       "    </tr>\n",
       "    <tr>\n",
       "      <th>1</th>\n",
       "      <td>6844CF42F72827D7</td>\n",
       "      <td>classic_bike</td>\n",
       "      <td>2024-05-10 15:00:06</td>\n",
       "      <td>2024-05-10 15:08:58</td>\n",
       "      <td>31 Ave &amp; 57 St</td>\n",
       "      <td>6621.06</td>\n",
       "      <td>31 Ave &amp; Steinway St</td>\n",
       "      <td>6782.01</td>\n",
       "      <td>40.757357</td>\n",
       "      <td>-73.904726</td>\n",
       "      <td>40.761149</td>\n",
       "      <td>-73.917007</td>\n",
       "      <td>member</td>\n",
       "    </tr>\n",
       "    <tr>\n",
       "      <th>2</th>\n",
       "      <td>D7C9E007F791A7A2</td>\n",
       "      <td>classic_bike</td>\n",
       "      <td>2024-05-06 12:28:39</td>\n",
       "      <td>2024-05-06 12:35:21</td>\n",
       "      <td>E 89 St &amp; 3 Ave</td>\n",
       "      <td>7265.10</td>\n",
       "      <td>E 80 St &amp; 2 Ave</td>\n",
       "      <td>7121.02</td>\n",
       "      <td>40.780628</td>\n",
       "      <td>-73.952167</td>\n",
       "      <td>40.773914</td>\n",
       "      <td>-73.954395</td>\n",
       "      <td>member</td>\n",
       "    </tr>\n",
       "    <tr>\n",
       "      <th>3</th>\n",
       "      <td>3419650E2F5999F1</td>\n",
       "      <td>classic_bike</td>\n",
       "      <td>2024-05-16 16:09:14</td>\n",
       "      <td>2024-05-16 16:14:20</td>\n",
       "      <td>E 89 St &amp; 3 Ave</td>\n",
       "      <td>7265.10</td>\n",
       "      <td>E 80 St &amp; 2 Ave</td>\n",
       "      <td>7121.02</td>\n",
       "      <td>40.780628</td>\n",
       "      <td>-73.952167</td>\n",
       "      <td>40.773914</td>\n",
       "      <td>-73.954395</td>\n",
       "      <td>member</td>\n",
       "    </tr>\n",
       "    <tr>\n",
       "      <th>4</th>\n",
       "      <td>5469FDC75E0F1FCA</td>\n",
       "      <td>electric_bike</td>\n",
       "      <td>2024-05-29 15:43:37</td>\n",
       "      <td>2024-05-29 15:49:27</td>\n",
       "      <td>1 Ave &amp; E 30 St</td>\n",
       "      <td>6079.03</td>\n",
       "      <td>E 45 St &amp; 3 Ave</td>\n",
       "      <td>6464.08</td>\n",
       "      <td>40.741444</td>\n",
       "      <td>-73.975361</td>\n",
       "      <td>40.752554</td>\n",
       "      <td>-73.972826</td>\n",
       "      <td>member</td>\n",
       "    </tr>\n",
       "  </tbody>\n",
       "</table>\n",
       "</div>"
      ],
      "text/plain": [
       "            ride_id  rideable_type           started_at             ended_at  \\\n",
       "0  FE6A074FC945A086  electric_bike  2024-05-01 08:05:53  2024-05-01 08:15:14   \n",
       "1  6844CF42F72827D7   classic_bike  2024-05-10 15:00:06  2024-05-10 15:08:58   \n",
       "2  D7C9E007F791A7A2   classic_bike  2024-05-06 12:28:39  2024-05-06 12:35:21   \n",
       "3  3419650E2F5999F1   classic_bike  2024-05-16 16:09:14  2024-05-16 16:14:20   \n",
       "4  5469FDC75E0F1FCA  electric_bike  2024-05-29 15:43:37  2024-05-29 15:49:27   \n",
       "\n",
       "  start_station_name start_station_id      end_station_name end_station_id  \\\n",
       "0    1 Ave & E 30 St          6079.03       E 74 St & 1 Ave        6953.08   \n",
       "1     31 Ave & 57 St          6621.06  31 Ave & Steinway St        6782.01   \n",
       "2    E 89 St & 3 Ave          7265.10       E 80 St & 2 Ave        7121.02   \n",
       "3    E 89 St & 3 Ave          7265.10       E 80 St & 2 Ave        7121.02   \n",
       "4    1 Ave & E 30 St          6079.03       E 45 St & 3 Ave        6464.08   \n",
       "\n",
       "   start_lat  start_lng    end_lat    end_lng member_casual  \n",
       "0  40.741509 -73.975355  40.768974 -73.954823        member  \n",
       "1  40.757357 -73.904726  40.761149 -73.917007        member  \n",
       "2  40.780628 -73.952167  40.773914 -73.954395        member  \n",
       "3  40.780628 -73.952167  40.773914 -73.954395        member  \n",
       "4  40.741444 -73.975361  40.752554 -73.972826        member  "
      ]
     },
     "execution_count": 8,
     "metadata": {},
     "output_type": "execute_result"
    }
   ],
   "source": [
    "df.head()"
   ]
  },
  {
   "cell_type": "code",
   "execution_count": 9,
   "id": "a76b40cf-bea9-4389-b75c-124c9168ddf1",
   "metadata": {},
   "outputs": [
    {
     "data": {
      "text/plain": [
       "'2.2.2'"
      ]
     },
     "execution_count": 9,
     "metadata": {},
     "output_type": "execute_result"
    }
   ],
   "source": [
    "pd.__version__"
   ]
  },
  {
   "cell_type": "code",
   "execution_count": null,
   "id": "532e2f68-884d-4534-adb6-b1b430171fb6",
   "metadata": {},
   "outputs": [],
   "source": []
  }
 ],
 "metadata": {
  "kernelspec": {
   "display_name": "Python 3 (ipykernel)",
   "language": "python",
   "name": "python3"
  },
  "language_info": {
   "codemirror_mode": {
    "name": "ipython",
    "version": 3
   },
   "file_extension": ".py",
   "mimetype": "text/x-python",
   "name": "python",
   "nbconvert_exporter": "python",
   "pygments_lexer": "ipython3",
   "version": "3.12.4"
  }
 },
 "nbformat": 4,
 "nbformat_minor": 5
}
